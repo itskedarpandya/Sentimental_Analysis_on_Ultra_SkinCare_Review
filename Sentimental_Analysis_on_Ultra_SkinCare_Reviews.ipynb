{
  "nbformat": 4,
  "nbformat_minor": 0,
  "metadata": {
    "colab": {
      "provenance": [],
      "gpuType": "T4"
    },
    "kernelspec": {
      "name": "python3",
      "display_name": "Python 3"
    },
    "language_info": {
      "name": "python"
    },
    "accelerator": "GPU",
    "gpuClass": "standard"
  },
  "cells": [
    {
      "cell_type": "markdown",
      "source": [
        "## Sentimental Analysis on Ultra SkinCare Reviews \n",
        "##### Link to the dataset: [Link](https://https://www.kaggle.com/datasets/nenamalikah/nlp-ulta-skincare-reviews)\n",
        "\n",
        "---\n",
        "\n"
      ],
      "metadata": {
        "id": "VIFGOqmyIRfK"
      }
    },
    {
      "cell_type": "code",
      "source": [
        "#importing the required libraries\n",
        "import numpy as np\n",
        "import pandas as pd\n",
        "import matplotlib.pyplot as plt"
      ],
      "metadata": {
        "id": "z_B7p_97JChP"
      },
      "execution_count": null,
      "outputs": []
    },
    {
      "cell_type": "code",
      "source": [
        "from google.colab import drive\n",
        "drive.mount('/content/drive')"
      ],
      "metadata": {
        "colab": {
          "base_uri": "https://localhost:8080/"
        },
        "id": "UaXTmG-vLgTV",
        "outputId": "7abc9f75-4ea1-4cc8-95ca-e2b008fa7e90"
      },
      "execution_count": null,
      "outputs": [
        {
          "output_type": "stream",
          "name": "stdout",
          "text": [
            "Mounted at /content/drive\n"
          ]
        }
      ]
    },
    {
      "cell_type": "code",
      "source": [
        "data = pd.read_csv('/content/drive/MyDrive/Datasets/UltraSkincareReview/Ulta Skincare Reviews.csv')\n",
        "data = pd.DataFrame(data)\n",
        "data.head()"
      ],
      "metadata": {
        "colab": {
          "base_uri": "https://localhost:8080/",
          "height": 337
        },
        "id": "-_9_cyjtLkKP",
        "outputId": "84a78439-8791-4fc7-f8a6-e27fca19f4a2"
      },
      "execution_count": null,
      "outputs": [
        {
          "output_type": "execute_result",
          "data": {
            "text/plain": [
              "                      Review_Title  \\\n",
              "0                          Perfect   \n",
              "1                    You need this   \n",
              "2                       Clean skin   \n",
              "3                 Love This Stuff!   \n",
              "4  This exfoliates very nicely and   \n",
              "\n",
              "                                         Review_Text Verified_Buyer  \\\n",
              "0  Love using this on my face while in the shower...             No   \n",
              "1  Even better than the daily microfoliant. I'm o...             No   \n",
              "2  Enjoy this product so much ! I look forward to...             No   \n",
              "3  I've never tried anything like this before and...             No   \n",
              "4  This exfoliates very nicely and gives a very s...             No   \n",
              "\n",
              "    Review_Date Review_Location  Review_Upvotes  Review_Downvotes  \\\n",
              "0   15 days ago     Undisclosed               0                 0   \n",
              "1   27 days ago     Undisclosed               0                 0   \n",
              "2  2 months ago     Undisclosed               0                 0   \n",
              "3  2 months ago     Undisclosed               0                 0   \n",
              "4  2 months ago     Undisclosed               0                 0   \n",
              "\n",
              "                       Product        Brand Scrape_Date  \n",
              "0  Multi-Vitamin Thermafoliant  Dermalogica     3/27/23  \n",
              "1  Multi-Vitamin Thermafoliant  Dermalogica     3/27/23  \n",
              "2  Multi-Vitamin Thermafoliant  Dermalogica     3/27/23  \n",
              "3  Multi-Vitamin Thermafoliant  Dermalogica     3/27/23  \n",
              "4  Multi-Vitamin Thermafoliant  Dermalogica     3/27/23  "
            ],
            "text/html": [
              "\n",
              "  <div id=\"df-cde7aaf4-7aa6-4a7c-8c44-d1f4b1024f08\">\n",
              "    <div class=\"colab-df-container\">\n",
              "      <div>\n",
              "<style scoped>\n",
              "    .dataframe tbody tr th:only-of-type {\n",
              "        vertical-align: middle;\n",
              "    }\n",
              "\n",
              "    .dataframe tbody tr th {\n",
              "        vertical-align: top;\n",
              "    }\n",
              "\n",
              "    .dataframe thead th {\n",
              "        text-align: right;\n",
              "    }\n",
              "</style>\n",
              "<table border=\"1\" class=\"dataframe\">\n",
              "  <thead>\n",
              "    <tr style=\"text-align: right;\">\n",
              "      <th></th>\n",
              "      <th>Review_Title</th>\n",
              "      <th>Review_Text</th>\n",
              "      <th>Verified_Buyer</th>\n",
              "      <th>Review_Date</th>\n",
              "      <th>Review_Location</th>\n",
              "      <th>Review_Upvotes</th>\n",
              "      <th>Review_Downvotes</th>\n",
              "      <th>Product</th>\n",
              "      <th>Brand</th>\n",
              "      <th>Scrape_Date</th>\n",
              "    </tr>\n",
              "  </thead>\n",
              "  <tbody>\n",
              "    <tr>\n",
              "      <th>0</th>\n",
              "      <td>Perfect</td>\n",
              "      <td>Love using this on my face while in the shower...</td>\n",
              "      <td>No</td>\n",
              "      <td>15 days ago</td>\n",
              "      <td>Undisclosed</td>\n",
              "      <td>0</td>\n",
              "      <td>0</td>\n",
              "      <td>Multi-Vitamin Thermafoliant</td>\n",
              "      <td>Dermalogica</td>\n",
              "      <td>3/27/23</td>\n",
              "    </tr>\n",
              "    <tr>\n",
              "      <th>1</th>\n",
              "      <td>You need this</td>\n",
              "      <td>Even better than the daily microfoliant. I'm o...</td>\n",
              "      <td>No</td>\n",
              "      <td>27 days ago</td>\n",
              "      <td>Undisclosed</td>\n",
              "      <td>0</td>\n",
              "      <td>0</td>\n",
              "      <td>Multi-Vitamin Thermafoliant</td>\n",
              "      <td>Dermalogica</td>\n",
              "      <td>3/27/23</td>\n",
              "    </tr>\n",
              "    <tr>\n",
              "      <th>2</th>\n",
              "      <td>Clean skin</td>\n",
              "      <td>Enjoy this product so much ! I look forward to...</td>\n",
              "      <td>No</td>\n",
              "      <td>2 months ago</td>\n",
              "      <td>Undisclosed</td>\n",
              "      <td>0</td>\n",
              "      <td>0</td>\n",
              "      <td>Multi-Vitamin Thermafoliant</td>\n",
              "      <td>Dermalogica</td>\n",
              "      <td>3/27/23</td>\n",
              "    </tr>\n",
              "    <tr>\n",
              "      <th>3</th>\n",
              "      <td>Love This Stuff!</td>\n",
              "      <td>I've never tried anything like this before and...</td>\n",
              "      <td>No</td>\n",
              "      <td>2 months ago</td>\n",
              "      <td>Undisclosed</td>\n",
              "      <td>0</td>\n",
              "      <td>0</td>\n",
              "      <td>Multi-Vitamin Thermafoliant</td>\n",
              "      <td>Dermalogica</td>\n",
              "      <td>3/27/23</td>\n",
              "    </tr>\n",
              "    <tr>\n",
              "      <th>4</th>\n",
              "      <td>This exfoliates very nicely and</td>\n",
              "      <td>This exfoliates very nicely and gives a very s...</td>\n",
              "      <td>No</td>\n",
              "      <td>2 months ago</td>\n",
              "      <td>Undisclosed</td>\n",
              "      <td>0</td>\n",
              "      <td>0</td>\n",
              "      <td>Multi-Vitamin Thermafoliant</td>\n",
              "      <td>Dermalogica</td>\n",
              "      <td>3/27/23</td>\n",
              "    </tr>\n",
              "  </tbody>\n",
              "</table>\n",
              "</div>\n",
              "      <button class=\"colab-df-convert\" onclick=\"convertToInteractive('df-cde7aaf4-7aa6-4a7c-8c44-d1f4b1024f08')\"\n",
              "              title=\"Convert this dataframe to an interactive table.\"\n",
              "              style=\"display:none;\">\n",
              "        \n",
              "  <svg xmlns=\"http://www.w3.org/2000/svg\" height=\"24px\"viewBox=\"0 0 24 24\"\n",
              "       width=\"24px\">\n",
              "    <path d=\"M0 0h24v24H0V0z\" fill=\"none\"/>\n",
              "    <path d=\"M18.56 5.44l.94 2.06.94-2.06 2.06-.94-2.06-.94-.94-2.06-.94 2.06-2.06.94zm-11 1L8.5 8.5l.94-2.06 2.06-.94-2.06-.94L8.5 2.5l-.94 2.06-2.06.94zm10 10l.94 2.06.94-2.06 2.06-.94-2.06-.94-.94-2.06-.94 2.06-2.06.94z\"/><path d=\"M17.41 7.96l-1.37-1.37c-.4-.4-.92-.59-1.43-.59-.52 0-1.04.2-1.43.59L10.3 9.45l-7.72 7.72c-.78.78-.78 2.05 0 2.83L4 21.41c.39.39.9.59 1.41.59.51 0 1.02-.2 1.41-.59l7.78-7.78 2.81-2.81c.8-.78.8-2.07 0-2.86zM5.41 20L4 18.59l7.72-7.72 1.47 1.35L5.41 20z\"/>\n",
              "  </svg>\n",
              "      </button>\n",
              "      \n",
              "  <style>\n",
              "    .colab-df-container {\n",
              "      display:flex;\n",
              "      flex-wrap:wrap;\n",
              "      gap: 12px;\n",
              "    }\n",
              "\n",
              "    .colab-df-convert {\n",
              "      background-color: #E8F0FE;\n",
              "      border: none;\n",
              "      border-radius: 50%;\n",
              "      cursor: pointer;\n",
              "      display: none;\n",
              "      fill: #1967D2;\n",
              "      height: 32px;\n",
              "      padding: 0 0 0 0;\n",
              "      width: 32px;\n",
              "    }\n",
              "\n",
              "    .colab-df-convert:hover {\n",
              "      background-color: #E2EBFA;\n",
              "      box-shadow: 0px 1px 2px rgba(60, 64, 67, 0.3), 0px 1px 3px 1px rgba(60, 64, 67, 0.15);\n",
              "      fill: #174EA6;\n",
              "    }\n",
              "\n",
              "    [theme=dark] .colab-df-convert {\n",
              "      background-color: #3B4455;\n",
              "      fill: #D2E3FC;\n",
              "    }\n",
              "\n",
              "    [theme=dark] .colab-df-convert:hover {\n",
              "      background-color: #434B5C;\n",
              "      box-shadow: 0px 1px 3px 1px rgba(0, 0, 0, 0.15);\n",
              "      filter: drop-shadow(0px 1px 2px rgba(0, 0, 0, 0.3));\n",
              "      fill: #FFFFFF;\n",
              "    }\n",
              "  </style>\n",
              "\n",
              "      <script>\n",
              "        const buttonEl =\n",
              "          document.querySelector('#df-cde7aaf4-7aa6-4a7c-8c44-d1f4b1024f08 button.colab-df-convert');\n",
              "        buttonEl.style.display =\n",
              "          google.colab.kernel.accessAllowed ? 'block' : 'none';\n",
              "\n",
              "        async function convertToInteractive(key) {\n",
              "          const element = document.querySelector('#df-cde7aaf4-7aa6-4a7c-8c44-d1f4b1024f08');\n",
              "          const dataTable =\n",
              "            await google.colab.kernel.invokeFunction('convertToInteractive',\n",
              "                                                     [key], {});\n",
              "          if (!dataTable) return;\n",
              "\n",
              "          const docLinkHtml = 'Like what you see? Visit the ' +\n",
              "            '<a target=\"_blank\" href=https://colab.research.google.com/notebooks/data_table.ipynb>data table notebook</a>'\n",
              "            + ' to learn more about interactive tables.';\n",
              "          element.innerHTML = '';\n",
              "          dataTable['output_type'] = 'display_data';\n",
              "          await google.colab.output.renderOutput(dataTable, element);\n",
              "          const docLink = document.createElement('div');\n",
              "          docLink.innerHTML = docLinkHtml;\n",
              "          element.appendChild(docLink);\n",
              "        }\n",
              "      </script>\n",
              "    </div>\n",
              "  </div>\n",
              "  "
            ]
          },
          "metadata": {},
          "execution_count": 3
        }
      ]
    },
    {
      "cell_type": "code",
      "source": [
        "#checking the null values in the dataset\n",
        "data.isna().sum()"
      ],
      "metadata": {
        "colab": {
          "base_uri": "https://localhost:8080/"
        },
        "id": "-xEH4oHGLwrX",
        "outputId": "e0973b3c-280b-4f98-fce2-3a410b68b7f8"
      },
      "execution_count": null,
      "outputs": [
        {
          "output_type": "execute_result",
          "data": {
            "text/plain": [
              "Review_Title        0\n",
              "Review_Text         2\n",
              "Verified_Buyer      0\n",
              "Review_Date         0\n",
              "Review_Location     1\n",
              "Review_Upvotes      0\n",
              "Review_Downvotes    0\n",
              "Product             0\n",
              "Brand               0\n",
              "Scrape_Date         0\n",
              "dtype: int64"
            ]
          },
          "metadata": {},
          "execution_count": 4
        }
      ]
    },
    {
      "cell_type": "code",
      "source": [
        "data.shape"
      ],
      "metadata": {
        "colab": {
          "base_uri": "https://localhost:8080/"
        },
        "id": "hyklHiF6M15C",
        "outputId": "e1b2536f-5cce-478f-8cd1-d981dce97b94"
      },
      "execution_count": null,
      "outputs": [
        {
          "output_type": "execute_result",
          "data": {
            "text/plain": [
              "(4150, 10)"
            ]
          },
          "metadata": {},
          "execution_count": 5
        }
      ]
    },
    {
      "cell_type": "code",
      "source": [
        "#dropping the rows with null values to get the purest data\n",
        "data = data.dropna()\n",
        "data = pd.DataFrame(data)"
      ],
      "metadata": {
        "id": "Y0qIb95kM5qo"
      },
      "execution_count": null,
      "outputs": []
    },
    {
      "cell_type": "code",
      "source": [
        "import nltk\n",
        "from nltk.corpus import stopwords\n",
        "from nltk.tokenize import word_tokenize\n",
        "from nltk.stem import WordNetLemmatizer\n",
        "from bs4 import BeautifulSoup\n",
        "import string\n",
        "import spacy\n",
        "import re\n",
        "#from nltk.tokenize import contractions"
      ],
      "metadata": {
        "id": "fSg9Nvr0R1q4"
      },
      "execution_count": null,
      "outputs": []
    },
    {
      "cell_type": "code",
      "source": [
        "nltk.download('stopwords')\n",
        "nltk.download('punkt')\n",
        "nltk.download('wordnet')"
      ],
      "metadata": {
        "colab": {
          "base_uri": "https://localhost:8080/"
        },
        "id": "9MfWcdTrVmIS",
        "outputId": "5c06bc01-e74c-4d32-bc79-8c2a268af754"
      },
      "execution_count": null,
      "outputs": [
        {
          "output_type": "stream",
          "name": "stderr",
          "text": [
            "[nltk_data] Downloading package stopwords to /root/nltk_data...\n",
            "[nltk_data]   Unzipping corpora/stopwords.zip.\n",
            "[nltk_data] Downloading package punkt to /root/nltk_data...\n",
            "[nltk_data]   Unzipping tokenizers/punkt.zip.\n",
            "[nltk_data] Downloading package wordnet to /root/nltk_data...\n"
          ]
        },
        {
          "output_type": "execute_result",
          "data": {
            "text/plain": [
              "True"
            ]
          },
          "metadata": {},
          "execution_count": 8
        }
      ]
    },
    {
      "cell_type": "code",
      "source": [
        "#now we define a function that performs standard NLP preprocessing tasks on the 'Review_text'\n",
        "#we define a function to expand the contractions using the spacy library\n",
        "nlp = spacy.load('en_core_web_sm')\n",
        "def expand(text):\n",
        "  doc = nlp(text)\n",
        "  exp_text = ' '.join([token.text for token in doc])\n",
        "  return exp_text\n",
        "\n",
        "def processed_text(text):\n",
        "\n",
        "  #expand contraction\n",
        "  text = expand(text)\n",
        "  \n",
        "  #remove the HTML tags since the data was scraped from the web\n",
        "  soup = BeautifulSoup(text, 'html.parser')\n",
        "  text = soup.get_text()\n",
        "\n",
        "  #remove special characters\n",
        "  pattern = r'[^a-zA-Z0-9\\s]'\n",
        "  text = re.sub(pattern, '', text)\n",
        "\n",
        "  #convert the text into lowercase for standardizing\n",
        "  text = text.lower()\n",
        "  \n",
        "  #tokenize the text into words\n",
        "  tokens = word_tokenize(text)\n",
        "  \n",
        "  \n",
        "  #removing the punctuations in the text\n",
        "  tokens = [token for token in tokens if token not in string.punctuation]\n",
        "  \n",
        "\n",
        "  #remove the stop words such as 'a', 'and', 'the' etc.\n",
        "  stop_words = set(stopwords.words('english'))\n",
        "  tokens = [token for token in tokens if token not in stop_words]\n",
        "\n",
        "  #performing the lemmatization to reduce the words to their proper base form\n",
        "  lemmatizer = WordNetLemmatizer()\n",
        "  tokens = [lemmatizer.lemmatize(token) for token in tokens]\n",
        "\n",
        "  #joining the clean tokens back into a single string\n",
        "  processed_text = ' '.join(tokens)\n",
        "\n",
        "  return processed_text\n"
      ],
      "metadata": {
        "id": "nCc_7_6bSLLP"
      },
      "execution_count": null,
      "outputs": []
    },
    {
      "cell_type": "code",
      "source": [
        "data['Review_Text'] = [processed_text(sentence) for sentence in data['Review_Text']]"
      ],
      "metadata": {
        "colab": {
          "base_uri": "https://localhost:8080/"
        },
        "id": "4rgm5n9_Umnj",
        "outputId": "61b62ab1-0f54-480b-bd60-1b2d8de72e68"
      },
      "execution_count": null,
      "outputs": [
        {
          "output_type": "stream",
          "name": "stderr",
          "text": [
            "<ipython-input-9-54aeb8838b9e>:15: MarkupResemblesLocatorWarning: The input looks more like a filename than markup. You may want to open this file and pass the filehandle into Beautiful Soup.\n",
            "  soup = BeautifulSoup(text, 'html.parser')\n"
          ]
        }
      ]
    },
    {
      "cell_type": "code",
      "source": [
        "data.head(10)"
      ],
      "metadata": {
        "colab": {
          "base_uri": "https://localhost:8080/",
          "height": 580
        },
        "id": "3KTUnd0oVe7K",
        "outputId": "f8358c60-5e2a-4f14-a44d-d3de656ee323"
      },
      "execution_count": null,
      "outputs": [
        {
          "output_type": "execute_result",
          "data": {
            "text/plain": [
              "                      Review_Title  \\\n",
              "0                          Perfect   \n",
              "1                    You need this   \n",
              "2                       Clean skin   \n",
              "3                 Love This Stuff!   \n",
              "4  This exfoliates very nicely and   \n",
              "5            Seriously nice scrub!   \n",
              "6                  Absolutely love   \n",
              "7    I truly like the multivitamin   \n",
              "8                         Favorite   \n",
              "9                         Excelent   \n",
              "\n",
              "                                         Review_Text Verified_Buyer  \\\n",
              "0  love using face shower heat give light scrub n...             No   \n",
              "1  even better daily microfoliant obsessed skin m...             No   \n",
              "2  enjoy product much look forward using really f...             No   \n",
              "3  never tried anything like love apply face get ...             No   \n",
              "4  exfoliates nicely give smooth skin irritation ...             No   \n",
              "5  love use wet dry control abrasive leaf face so...             No   \n",
              "6                                    absolutely love             No   \n",
              "7  truly like multivitamin thermafoliant product ...             No   \n",
              "8        definitely love skin face feel better using             No   \n",
              "9                                           excelent             No   \n",
              "\n",
              "    Review_Date Review_Location  Review_Upvotes  Review_Downvotes  \\\n",
              "0   15 days ago     Undisclosed               0                 0   \n",
              "1   27 days ago     Undisclosed               0                 0   \n",
              "2  2 months ago     Undisclosed               0                 0   \n",
              "3  2 months ago     Undisclosed               0                 0   \n",
              "4  2 months ago     Undisclosed               0                 0   \n",
              "5  2 months ago     Undisclosed               0                 0   \n",
              "6  2 months ago     Undisclosed               0                 0   \n",
              "7  2 months ago     Undisclosed               0                 0   \n",
              "8  2 months ago     Undisclosed               0                 0   \n",
              "9  2 months ago     Undisclosed               0                 0   \n",
              "\n",
              "                       Product        Brand Scrape_Date  \n",
              "0  Multi-Vitamin Thermafoliant  Dermalogica     3/27/23  \n",
              "1  Multi-Vitamin Thermafoliant  Dermalogica     3/27/23  \n",
              "2  Multi-Vitamin Thermafoliant  Dermalogica     3/27/23  \n",
              "3  Multi-Vitamin Thermafoliant  Dermalogica     3/27/23  \n",
              "4  Multi-Vitamin Thermafoliant  Dermalogica     3/27/23  \n",
              "5  Multi-Vitamin Thermafoliant  Dermalogica     3/27/23  \n",
              "6  Multi-Vitamin Thermafoliant  Dermalogica     3/27/23  \n",
              "7  Multi-Vitamin Thermafoliant  Dermalogica     3/27/23  \n",
              "8  Multi-Vitamin Thermafoliant  Dermalogica     3/27/23  \n",
              "9  Multi-Vitamin Thermafoliant  Dermalogica     3/27/23  "
            ],
            "text/html": [
              "\n",
              "  <div id=\"df-ea161688-1e7c-44f2-94bb-5c3a8827e7fd\">\n",
              "    <div class=\"colab-df-container\">\n",
              "      <div>\n",
              "<style scoped>\n",
              "    .dataframe tbody tr th:only-of-type {\n",
              "        vertical-align: middle;\n",
              "    }\n",
              "\n",
              "    .dataframe tbody tr th {\n",
              "        vertical-align: top;\n",
              "    }\n",
              "\n",
              "    .dataframe thead th {\n",
              "        text-align: right;\n",
              "    }\n",
              "</style>\n",
              "<table border=\"1\" class=\"dataframe\">\n",
              "  <thead>\n",
              "    <tr style=\"text-align: right;\">\n",
              "      <th></th>\n",
              "      <th>Review_Title</th>\n",
              "      <th>Review_Text</th>\n",
              "      <th>Verified_Buyer</th>\n",
              "      <th>Review_Date</th>\n",
              "      <th>Review_Location</th>\n",
              "      <th>Review_Upvotes</th>\n",
              "      <th>Review_Downvotes</th>\n",
              "      <th>Product</th>\n",
              "      <th>Brand</th>\n",
              "      <th>Scrape_Date</th>\n",
              "    </tr>\n",
              "  </thead>\n",
              "  <tbody>\n",
              "    <tr>\n",
              "      <th>0</th>\n",
              "      <td>Perfect</td>\n",
              "      <td>love using face shower heat give light scrub n...</td>\n",
              "      <td>No</td>\n",
              "      <td>15 days ago</td>\n",
              "      <td>Undisclosed</td>\n",
              "      <td>0</td>\n",
              "      <td>0</td>\n",
              "      <td>Multi-Vitamin Thermafoliant</td>\n",
              "      <td>Dermalogica</td>\n",
              "      <td>3/27/23</td>\n",
              "    </tr>\n",
              "    <tr>\n",
              "      <th>1</th>\n",
              "      <td>You need this</td>\n",
              "      <td>even better daily microfoliant obsessed skin m...</td>\n",
              "      <td>No</td>\n",
              "      <td>27 days ago</td>\n",
              "      <td>Undisclosed</td>\n",
              "      <td>0</td>\n",
              "      <td>0</td>\n",
              "      <td>Multi-Vitamin Thermafoliant</td>\n",
              "      <td>Dermalogica</td>\n",
              "      <td>3/27/23</td>\n",
              "    </tr>\n",
              "    <tr>\n",
              "      <th>2</th>\n",
              "      <td>Clean skin</td>\n",
              "      <td>enjoy product much look forward using really f...</td>\n",
              "      <td>No</td>\n",
              "      <td>2 months ago</td>\n",
              "      <td>Undisclosed</td>\n",
              "      <td>0</td>\n",
              "      <td>0</td>\n",
              "      <td>Multi-Vitamin Thermafoliant</td>\n",
              "      <td>Dermalogica</td>\n",
              "      <td>3/27/23</td>\n",
              "    </tr>\n",
              "    <tr>\n",
              "      <th>3</th>\n",
              "      <td>Love This Stuff!</td>\n",
              "      <td>never tried anything like love apply face get ...</td>\n",
              "      <td>No</td>\n",
              "      <td>2 months ago</td>\n",
              "      <td>Undisclosed</td>\n",
              "      <td>0</td>\n",
              "      <td>0</td>\n",
              "      <td>Multi-Vitamin Thermafoliant</td>\n",
              "      <td>Dermalogica</td>\n",
              "      <td>3/27/23</td>\n",
              "    </tr>\n",
              "    <tr>\n",
              "      <th>4</th>\n",
              "      <td>This exfoliates very nicely and</td>\n",
              "      <td>exfoliates nicely give smooth skin irritation ...</td>\n",
              "      <td>No</td>\n",
              "      <td>2 months ago</td>\n",
              "      <td>Undisclosed</td>\n",
              "      <td>0</td>\n",
              "      <td>0</td>\n",
              "      <td>Multi-Vitamin Thermafoliant</td>\n",
              "      <td>Dermalogica</td>\n",
              "      <td>3/27/23</td>\n",
              "    </tr>\n",
              "    <tr>\n",
              "      <th>5</th>\n",
              "      <td>Seriously nice scrub!</td>\n",
              "      <td>love use wet dry control abrasive leaf face so...</td>\n",
              "      <td>No</td>\n",
              "      <td>2 months ago</td>\n",
              "      <td>Undisclosed</td>\n",
              "      <td>0</td>\n",
              "      <td>0</td>\n",
              "      <td>Multi-Vitamin Thermafoliant</td>\n",
              "      <td>Dermalogica</td>\n",
              "      <td>3/27/23</td>\n",
              "    </tr>\n",
              "    <tr>\n",
              "      <th>6</th>\n",
              "      <td>Absolutely love</td>\n",
              "      <td>absolutely love</td>\n",
              "      <td>No</td>\n",
              "      <td>2 months ago</td>\n",
              "      <td>Undisclosed</td>\n",
              "      <td>0</td>\n",
              "      <td>0</td>\n",
              "      <td>Multi-Vitamin Thermafoliant</td>\n",
              "      <td>Dermalogica</td>\n",
              "      <td>3/27/23</td>\n",
              "    </tr>\n",
              "    <tr>\n",
              "      <th>7</th>\n",
              "      <td>I truly like the multivitamin</td>\n",
              "      <td>truly like multivitamin thermafoliant product ...</td>\n",
              "      <td>No</td>\n",
              "      <td>2 months ago</td>\n",
              "      <td>Undisclosed</td>\n",
              "      <td>0</td>\n",
              "      <td>0</td>\n",
              "      <td>Multi-Vitamin Thermafoliant</td>\n",
              "      <td>Dermalogica</td>\n",
              "      <td>3/27/23</td>\n",
              "    </tr>\n",
              "    <tr>\n",
              "      <th>8</th>\n",
              "      <td>Favorite</td>\n",
              "      <td>definitely love skin face feel better using</td>\n",
              "      <td>No</td>\n",
              "      <td>2 months ago</td>\n",
              "      <td>Undisclosed</td>\n",
              "      <td>0</td>\n",
              "      <td>0</td>\n",
              "      <td>Multi-Vitamin Thermafoliant</td>\n",
              "      <td>Dermalogica</td>\n",
              "      <td>3/27/23</td>\n",
              "    </tr>\n",
              "    <tr>\n",
              "      <th>9</th>\n",
              "      <td>Excelent</td>\n",
              "      <td>excelent</td>\n",
              "      <td>No</td>\n",
              "      <td>2 months ago</td>\n",
              "      <td>Undisclosed</td>\n",
              "      <td>0</td>\n",
              "      <td>0</td>\n",
              "      <td>Multi-Vitamin Thermafoliant</td>\n",
              "      <td>Dermalogica</td>\n",
              "      <td>3/27/23</td>\n",
              "    </tr>\n",
              "  </tbody>\n",
              "</table>\n",
              "</div>\n",
              "      <button class=\"colab-df-convert\" onclick=\"convertToInteractive('df-ea161688-1e7c-44f2-94bb-5c3a8827e7fd')\"\n",
              "              title=\"Convert this dataframe to an interactive table.\"\n",
              "              style=\"display:none;\">\n",
              "        \n",
              "  <svg xmlns=\"http://www.w3.org/2000/svg\" height=\"24px\"viewBox=\"0 0 24 24\"\n",
              "       width=\"24px\">\n",
              "    <path d=\"M0 0h24v24H0V0z\" fill=\"none\"/>\n",
              "    <path d=\"M18.56 5.44l.94 2.06.94-2.06 2.06-.94-2.06-.94-.94-2.06-.94 2.06-2.06.94zm-11 1L8.5 8.5l.94-2.06 2.06-.94-2.06-.94L8.5 2.5l-.94 2.06-2.06.94zm10 10l.94 2.06.94-2.06 2.06-.94-2.06-.94-.94-2.06-.94 2.06-2.06.94z\"/><path d=\"M17.41 7.96l-1.37-1.37c-.4-.4-.92-.59-1.43-.59-.52 0-1.04.2-1.43.59L10.3 9.45l-7.72 7.72c-.78.78-.78 2.05 0 2.83L4 21.41c.39.39.9.59 1.41.59.51 0 1.02-.2 1.41-.59l7.78-7.78 2.81-2.81c.8-.78.8-2.07 0-2.86zM5.41 20L4 18.59l7.72-7.72 1.47 1.35L5.41 20z\"/>\n",
              "  </svg>\n",
              "      </button>\n",
              "      \n",
              "  <style>\n",
              "    .colab-df-container {\n",
              "      display:flex;\n",
              "      flex-wrap:wrap;\n",
              "      gap: 12px;\n",
              "    }\n",
              "\n",
              "    .colab-df-convert {\n",
              "      background-color: #E8F0FE;\n",
              "      border: none;\n",
              "      border-radius: 50%;\n",
              "      cursor: pointer;\n",
              "      display: none;\n",
              "      fill: #1967D2;\n",
              "      height: 32px;\n",
              "      padding: 0 0 0 0;\n",
              "      width: 32px;\n",
              "    }\n",
              "\n",
              "    .colab-df-convert:hover {\n",
              "      background-color: #E2EBFA;\n",
              "      box-shadow: 0px 1px 2px rgba(60, 64, 67, 0.3), 0px 1px 3px 1px rgba(60, 64, 67, 0.15);\n",
              "      fill: #174EA6;\n",
              "    }\n",
              "\n",
              "    [theme=dark] .colab-df-convert {\n",
              "      background-color: #3B4455;\n",
              "      fill: #D2E3FC;\n",
              "    }\n",
              "\n",
              "    [theme=dark] .colab-df-convert:hover {\n",
              "      background-color: #434B5C;\n",
              "      box-shadow: 0px 1px 3px 1px rgba(0, 0, 0, 0.15);\n",
              "      filter: drop-shadow(0px 1px 2px rgba(0, 0, 0, 0.3));\n",
              "      fill: #FFFFFF;\n",
              "    }\n",
              "  </style>\n",
              "\n",
              "      <script>\n",
              "        const buttonEl =\n",
              "          document.querySelector('#df-ea161688-1e7c-44f2-94bb-5c3a8827e7fd button.colab-df-convert');\n",
              "        buttonEl.style.display =\n",
              "          google.colab.kernel.accessAllowed ? 'block' : 'none';\n",
              "\n",
              "        async function convertToInteractive(key) {\n",
              "          const element = document.querySelector('#df-ea161688-1e7c-44f2-94bb-5c3a8827e7fd');\n",
              "          const dataTable =\n",
              "            await google.colab.kernel.invokeFunction('convertToInteractive',\n",
              "                                                     [key], {});\n",
              "          if (!dataTable) return;\n",
              "\n",
              "          const docLinkHtml = 'Like what you see? Visit the ' +\n",
              "            '<a target=\"_blank\" href=https://colab.research.google.com/notebooks/data_table.ipynb>data table notebook</a>'\n",
              "            + ' to learn more about interactive tables.';\n",
              "          element.innerHTML = '';\n",
              "          dataTable['output_type'] = 'display_data';\n",
              "          await google.colab.output.renderOutput(dataTable, element);\n",
              "          const docLink = document.createElement('div');\n",
              "          docLink.innerHTML = docLinkHtml;\n",
              "          element.appendChild(docLink);\n",
              "        }\n",
              "      </script>\n",
              "    </div>\n",
              "  </div>\n",
              "  "
            ]
          },
          "metadata": {},
          "execution_count": 11
        }
      ]
    },
    {
      "cell_type": "code",
      "source": [
        "from nltk.sentiment.vader import SentimentIntensityAnalyzer\n",
        "from tensorflow.keras.preprocessing.sequence import pad_sequences\n",
        "from tensorflow.keras.models import Sequential\n",
        "from tensorflow.keras.layers import Embedding, LSTM, Dense\n",
        "nltk.download('vader_lexicon')"
      ],
      "metadata": {
        "id": "w2tL2_pHbxFx",
        "colab": {
          "base_uri": "https://localhost:8080/"
        },
        "outputId": "8b5e97b6-4eb1-4154-b4f6-19e0d53ffa59"
      },
      "execution_count": null,
      "outputs": [
        {
          "output_type": "stream",
          "name": "stderr",
          "text": [
            "[nltk_data] Downloading package vader_lexicon to /root/nltk_data...\n"
          ]
        },
        {
          "output_type": "execute_result",
          "data": {
            "text/plain": [
              "True"
            ]
          },
          "metadata": {},
          "execution_count": 12
        }
      ]
    },
    {
      "cell_type": "code",
      "source": [
        "processed_text = data['Review_Text']\n",
        "vader_analyzer = SentimentIntensityAnalyzer()\n",
        "vader_scores = processed_text.apply(lambda text: vader_analyzer.polarity_scores(text))\n",
        "compound_scores = vader_scores.apply(lambda scores: scores['compound'])\n",
        "compound_scores"
      ],
      "metadata": {
        "colab": {
          "base_uri": "https://localhost:8080/"
        },
        "id": "GfYVFsnmE13g",
        "outputId": "b9b6e061-b3c2-40dd-8c1b-ca96ee2f66b3"
      },
      "execution_count": null,
      "outputs": [
        {
          "output_type": "execute_result",
          "data": {
            "text/plain": [
              "0       0.7964\n",
              "1       0.2960\n",
              "2       0.8214\n",
              "3       0.8810\n",
              "4       0.1761\n",
              "         ...  \n",
              "4145    0.4404\n",
              "4146    0.1078\n",
              "4147    0.4404\n",
              "4148    0.7003\n",
              "4149    0.8481\n",
              "Name: Review_Text, Length: 4147, dtype: float64"
            ]
          },
          "metadata": {},
          "execution_count": 13
        }
      ]
    },
    {
      "cell_type": "code",
      "source": [
        "new_data = pd.concat([processed_text, compound_scores], keys=['Review_text', 'compound_scores'], axis = 1, ignore_index= False)\n",
        "new_data\n"
      ],
      "metadata": {
        "colab": {
          "base_uri": "https://localhost:8080/",
          "height": 423
        },
        "id": "ix27gMXHHmeD",
        "outputId": "3d5a4bc6-8af2-43cb-bf6f-8c84062470f0"
      },
      "execution_count": null,
      "outputs": [
        {
          "output_type": "execute_result",
          "data": {
            "text/plain": [
              "                                            Review_text  compound_scores\n",
              "0     love using face shower heat give light scrub n...           0.7964\n",
              "1     even better daily microfoliant obsessed skin m...           0.2960\n",
              "2     enjoy product much look forward using really f...           0.8214\n",
              "3     never tried anything like love apply face get ...           0.8810\n",
              "4     exfoliates nicely give smooth skin irritation ...           0.1761\n",
              "...                                                 ...              ...\n",
              "4145                          much better product scrub           0.4404\n",
              "4146  using exfoliant month depending condition skin...           0.1078\n",
              "4147                       skin look better 10 year ago           0.4404\n",
              "4148  product useless known exfoliant use daily woul...           0.7003\n",
              "4149  product amazing thing help dry patch cheek als...           0.8481\n",
              "\n",
              "[4147 rows x 2 columns]"
            ],
            "text/html": [
              "\n",
              "  <div id=\"df-b31f451a-afda-4054-b202-67724b7df498\">\n",
              "    <div class=\"colab-df-container\">\n",
              "      <div>\n",
              "<style scoped>\n",
              "    .dataframe tbody tr th:only-of-type {\n",
              "        vertical-align: middle;\n",
              "    }\n",
              "\n",
              "    .dataframe tbody tr th {\n",
              "        vertical-align: top;\n",
              "    }\n",
              "\n",
              "    .dataframe thead th {\n",
              "        text-align: right;\n",
              "    }\n",
              "</style>\n",
              "<table border=\"1\" class=\"dataframe\">\n",
              "  <thead>\n",
              "    <tr style=\"text-align: right;\">\n",
              "      <th></th>\n",
              "      <th>Review_text</th>\n",
              "      <th>compound_scores</th>\n",
              "    </tr>\n",
              "  </thead>\n",
              "  <tbody>\n",
              "    <tr>\n",
              "      <th>0</th>\n",
              "      <td>love using face shower heat give light scrub n...</td>\n",
              "      <td>0.7964</td>\n",
              "    </tr>\n",
              "    <tr>\n",
              "      <th>1</th>\n",
              "      <td>even better daily microfoliant obsessed skin m...</td>\n",
              "      <td>0.2960</td>\n",
              "    </tr>\n",
              "    <tr>\n",
              "      <th>2</th>\n",
              "      <td>enjoy product much look forward using really f...</td>\n",
              "      <td>0.8214</td>\n",
              "    </tr>\n",
              "    <tr>\n",
              "      <th>3</th>\n",
              "      <td>never tried anything like love apply face get ...</td>\n",
              "      <td>0.8810</td>\n",
              "    </tr>\n",
              "    <tr>\n",
              "      <th>4</th>\n",
              "      <td>exfoliates nicely give smooth skin irritation ...</td>\n",
              "      <td>0.1761</td>\n",
              "    </tr>\n",
              "    <tr>\n",
              "      <th>...</th>\n",
              "      <td>...</td>\n",
              "      <td>...</td>\n",
              "    </tr>\n",
              "    <tr>\n",
              "      <th>4145</th>\n",
              "      <td>much better product scrub</td>\n",
              "      <td>0.4404</td>\n",
              "    </tr>\n",
              "    <tr>\n",
              "      <th>4146</th>\n",
              "      <td>using exfoliant month depending condition skin...</td>\n",
              "      <td>0.1078</td>\n",
              "    </tr>\n",
              "    <tr>\n",
              "      <th>4147</th>\n",
              "      <td>skin look better 10 year ago</td>\n",
              "      <td>0.4404</td>\n",
              "    </tr>\n",
              "    <tr>\n",
              "      <th>4148</th>\n",
              "      <td>product useless known exfoliant use daily woul...</td>\n",
              "      <td>0.7003</td>\n",
              "    </tr>\n",
              "    <tr>\n",
              "      <th>4149</th>\n",
              "      <td>product amazing thing help dry patch cheek als...</td>\n",
              "      <td>0.8481</td>\n",
              "    </tr>\n",
              "  </tbody>\n",
              "</table>\n",
              "<p>4147 rows × 2 columns</p>\n",
              "</div>\n",
              "      <button class=\"colab-df-convert\" onclick=\"convertToInteractive('df-b31f451a-afda-4054-b202-67724b7df498')\"\n",
              "              title=\"Convert this dataframe to an interactive table.\"\n",
              "              style=\"display:none;\">\n",
              "        \n",
              "  <svg xmlns=\"http://www.w3.org/2000/svg\" height=\"24px\"viewBox=\"0 0 24 24\"\n",
              "       width=\"24px\">\n",
              "    <path d=\"M0 0h24v24H0V0z\" fill=\"none\"/>\n",
              "    <path d=\"M18.56 5.44l.94 2.06.94-2.06 2.06-.94-2.06-.94-.94-2.06-.94 2.06-2.06.94zm-11 1L8.5 8.5l.94-2.06 2.06-.94-2.06-.94L8.5 2.5l-.94 2.06-2.06.94zm10 10l.94 2.06.94-2.06 2.06-.94-2.06-.94-.94-2.06-.94 2.06-2.06.94z\"/><path d=\"M17.41 7.96l-1.37-1.37c-.4-.4-.92-.59-1.43-.59-.52 0-1.04.2-1.43.59L10.3 9.45l-7.72 7.72c-.78.78-.78 2.05 0 2.83L4 21.41c.39.39.9.59 1.41.59.51 0 1.02-.2 1.41-.59l7.78-7.78 2.81-2.81c.8-.78.8-2.07 0-2.86zM5.41 20L4 18.59l7.72-7.72 1.47 1.35L5.41 20z\"/>\n",
              "  </svg>\n",
              "      </button>\n",
              "      \n",
              "  <style>\n",
              "    .colab-df-container {\n",
              "      display:flex;\n",
              "      flex-wrap:wrap;\n",
              "      gap: 12px;\n",
              "    }\n",
              "\n",
              "    .colab-df-convert {\n",
              "      background-color: #E8F0FE;\n",
              "      border: none;\n",
              "      border-radius: 50%;\n",
              "      cursor: pointer;\n",
              "      display: none;\n",
              "      fill: #1967D2;\n",
              "      height: 32px;\n",
              "      padding: 0 0 0 0;\n",
              "      width: 32px;\n",
              "    }\n",
              "\n",
              "    .colab-df-convert:hover {\n",
              "      background-color: #E2EBFA;\n",
              "      box-shadow: 0px 1px 2px rgba(60, 64, 67, 0.3), 0px 1px 3px 1px rgba(60, 64, 67, 0.15);\n",
              "      fill: #174EA6;\n",
              "    }\n",
              "\n",
              "    [theme=dark] .colab-df-convert {\n",
              "      background-color: #3B4455;\n",
              "      fill: #D2E3FC;\n",
              "    }\n",
              "\n",
              "    [theme=dark] .colab-df-convert:hover {\n",
              "      background-color: #434B5C;\n",
              "      box-shadow: 0px 1px 3px 1px rgba(0, 0, 0, 0.15);\n",
              "      filter: drop-shadow(0px 1px 2px rgba(0, 0, 0, 0.3));\n",
              "      fill: #FFFFFF;\n",
              "    }\n",
              "  </style>\n",
              "\n",
              "      <script>\n",
              "        const buttonEl =\n",
              "          document.querySelector('#df-b31f451a-afda-4054-b202-67724b7df498 button.colab-df-convert');\n",
              "        buttonEl.style.display =\n",
              "          google.colab.kernel.accessAllowed ? 'block' : 'none';\n",
              "\n",
              "        async function convertToInteractive(key) {\n",
              "          const element = document.querySelector('#df-b31f451a-afda-4054-b202-67724b7df498');\n",
              "          const dataTable =\n",
              "            await google.colab.kernel.invokeFunction('convertToInteractive',\n",
              "                                                     [key], {});\n",
              "          if (!dataTable) return;\n",
              "\n",
              "          const docLinkHtml = 'Like what you see? Visit the ' +\n",
              "            '<a target=\"_blank\" href=https://colab.research.google.com/notebooks/data_table.ipynb>data table notebook</a>'\n",
              "            + ' to learn more about interactive tables.';\n",
              "          element.innerHTML = '';\n",
              "          dataTable['output_type'] = 'display_data';\n",
              "          await google.colab.output.renderOutput(dataTable, element);\n",
              "          const docLink = document.createElement('div');\n",
              "          docLink.innerHTML = docLinkHtml;\n",
              "          element.appendChild(docLink);\n",
              "        }\n",
              "      </script>\n",
              "    </div>\n",
              "  </div>\n",
              "  "
            ]
          },
          "metadata": {},
          "execution_count": 14
        }
      ]
    },
    {
      "cell_type": "code",
      "source": [
        "def classify_sentiment(score):\n",
        "    if score >= 0:\n",
        "        return \"Positive\"\n",
        "    else:\n",
        "        return \"Negative\"\n",
        "new_data['sentiment'] = new_data['compound_scores'].apply(lambda x : classify_sentiment(x))\n",
        "new_data.head()"
      ],
      "metadata": {
        "colab": {
          "base_uri": "https://localhost:8080/",
          "height": 206
        },
        "id": "m-P4618B7n4h",
        "outputId": "8d8f5ff1-fb8b-42c2-810c-b5e1555c3034"
      },
      "execution_count": null,
      "outputs": [
        {
          "output_type": "execute_result",
          "data": {
            "text/plain": [
              "                                         Review_text  compound_scores  \\\n",
              "0  love using face shower heat give light scrub n...           0.7964   \n",
              "1  even better daily microfoliant obsessed skin m...           0.2960   \n",
              "2  enjoy product much look forward using really f...           0.8214   \n",
              "3  never tried anything like love apply face get ...           0.8810   \n",
              "4  exfoliates nicely give smooth skin irritation ...           0.1761   \n",
              "\n",
              "  sentiment  \n",
              "0  Positive  \n",
              "1  Positive  \n",
              "2  Positive  \n",
              "3  Positive  \n",
              "4  Positive  "
            ],
            "text/html": [
              "\n",
              "  <div id=\"df-b080f05a-5f23-4502-b029-85a458a98aaa\">\n",
              "    <div class=\"colab-df-container\">\n",
              "      <div>\n",
              "<style scoped>\n",
              "    .dataframe tbody tr th:only-of-type {\n",
              "        vertical-align: middle;\n",
              "    }\n",
              "\n",
              "    .dataframe tbody tr th {\n",
              "        vertical-align: top;\n",
              "    }\n",
              "\n",
              "    .dataframe thead th {\n",
              "        text-align: right;\n",
              "    }\n",
              "</style>\n",
              "<table border=\"1\" class=\"dataframe\">\n",
              "  <thead>\n",
              "    <tr style=\"text-align: right;\">\n",
              "      <th></th>\n",
              "      <th>Review_text</th>\n",
              "      <th>compound_scores</th>\n",
              "      <th>sentiment</th>\n",
              "    </tr>\n",
              "  </thead>\n",
              "  <tbody>\n",
              "    <tr>\n",
              "      <th>0</th>\n",
              "      <td>love using face shower heat give light scrub n...</td>\n",
              "      <td>0.7964</td>\n",
              "      <td>Positive</td>\n",
              "    </tr>\n",
              "    <tr>\n",
              "      <th>1</th>\n",
              "      <td>even better daily microfoliant obsessed skin m...</td>\n",
              "      <td>0.2960</td>\n",
              "      <td>Positive</td>\n",
              "    </tr>\n",
              "    <tr>\n",
              "      <th>2</th>\n",
              "      <td>enjoy product much look forward using really f...</td>\n",
              "      <td>0.8214</td>\n",
              "      <td>Positive</td>\n",
              "    </tr>\n",
              "    <tr>\n",
              "      <th>3</th>\n",
              "      <td>never tried anything like love apply face get ...</td>\n",
              "      <td>0.8810</td>\n",
              "      <td>Positive</td>\n",
              "    </tr>\n",
              "    <tr>\n",
              "      <th>4</th>\n",
              "      <td>exfoliates nicely give smooth skin irritation ...</td>\n",
              "      <td>0.1761</td>\n",
              "      <td>Positive</td>\n",
              "    </tr>\n",
              "  </tbody>\n",
              "</table>\n",
              "</div>\n",
              "      <button class=\"colab-df-convert\" onclick=\"convertToInteractive('df-b080f05a-5f23-4502-b029-85a458a98aaa')\"\n",
              "              title=\"Convert this dataframe to an interactive table.\"\n",
              "              style=\"display:none;\">\n",
              "        \n",
              "  <svg xmlns=\"http://www.w3.org/2000/svg\" height=\"24px\"viewBox=\"0 0 24 24\"\n",
              "       width=\"24px\">\n",
              "    <path d=\"M0 0h24v24H0V0z\" fill=\"none\"/>\n",
              "    <path d=\"M18.56 5.44l.94 2.06.94-2.06 2.06-.94-2.06-.94-.94-2.06-.94 2.06-2.06.94zm-11 1L8.5 8.5l.94-2.06 2.06-.94-2.06-.94L8.5 2.5l-.94 2.06-2.06.94zm10 10l.94 2.06.94-2.06 2.06-.94-2.06-.94-.94-2.06-.94 2.06-2.06.94z\"/><path d=\"M17.41 7.96l-1.37-1.37c-.4-.4-.92-.59-1.43-.59-.52 0-1.04.2-1.43.59L10.3 9.45l-7.72 7.72c-.78.78-.78 2.05 0 2.83L4 21.41c.39.39.9.59 1.41.59.51 0 1.02-.2 1.41-.59l7.78-7.78 2.81-2.81c.8-.78.8-2.07 0-2.86zM5.41 20L4 18.59l7.72-7.72 1.47 1.35L5.41 20z\"/>\n",
              "  </svg>\n",
              "      </button>\n",
              "      \n",
              "  <style>\n",
              "    .colab-df-container {\n",
              "      display:flex;\n",
              "      flex-wrap:wrap;\n",
              "      gap: 12px;\n",
              "    }\n",
              "\n",
              "    .colab-df-convert {\n",
              "      background-color: #E8F0FE;\n",
              "      border: none;\n",
              "      border-radius: 50%;\n",
              "      cursor: pointer;\n",
              "      display: none;\n",
              "      fill: #1967D2;\n",
              "      height: 32px;\n",
              "      padding: 0 0 0 0;\n",
              "      width: 32px;\n",
              "    }\n",
              "\n",
              "    .colab-df-convert:hover {\n",
              "      background-color: #E2EBFA;\n",
              "      box-shadow: 0px 1px 2px rgba(60, 64, 67, 0.3), 0px 1px 3px 1px rgba(60, 64, 67, 0.15);\n",
              "      fill: #174EA6;\n",
              "    }\n",
              "\n",
              "    [theme=dark] .colab-df-convert {\n",
              "      background-color: #3B4455;\n",
              "      fill: #D2E3FC;\n",
              "    }\n",
              "\n",
              "    [theme=dark] .colab-df-convert:hover {\n",
              "      background-color: #434B5C;\n",
              "      box-shadow: 0px 1px 3px 1px rgba(0, 0, 0, 0.15);\n",
              "      filter: drop-shadow(0px 1px 2px rgba(0, 0, 0, 0.3));\n",
              "      fill: #FFFFFF;\n",
              "    }\n",
              "  </style>\n",
              "\n",
              "      <script>\n",
              "        const buttonEl =\n",
              "          document.querySelector('#df-b080f05a-5f23-4502-b029-85a458a98aaa button.colab-df-convert');\n",
              "        buttonEl.style.display =\n",
              "          google.colab.kernel.accessAllowed ? 'block' : 'none';\n",
              "\n",
              "        async function convertToInteractive(key) {\n",
              "          const element = document.querySelector('#df-b080f05a-5f23-4502-b029-85a458a98aaa');\n",
              "          const dataTable =\n",
              "            await google.colab.kernel.invokeFunction('convertToInteractive',\n",
              "                                                     [key], {});\n",
              "          if (!dataTable) return;\n",
              "\n",
              "          const docLinkHtml = 'Like what you see? Visit the ' +\n",
              "            '<a target=\"_blank\" href=https://colab.research.google.com/notebooks/data_table.ipynb>data table notebook</a>'\n",
              "            + ' to learn more about interactive tables.';\n",
              "          element.innerHTML = '';\n",
              "          dataTable['output_type'] = 'display_data';\n",
              "          await google.colab.output.renderOutput(dataTable, element);\n",
              "          const docLink = document.createElement('div');\n",
              "          docLink.innerHTML = docLinkHtml;\n",
              "          element.appendChild(docLink);\n",
              "        }\n",
              "      </script>\n",
              "    </div>\n",
              "  </div>\n",
              "  "
            ]
          },
          "metadata": {},
          "execution_count": 15
        }
      ]
    },
    {
      "cell_type": "code",
      "source": [
        "new_data['sentiment'].value_counts()"
      ],
      "metadata": {
        "colab": {
          "base_uri": "https://localhost:8080/"
        },
        "id": "barBS5rWDfzK",
        "outputId": "e9e0835a-a91a-46cd-94df-35dd71a2b556"
      },
      "execution_count": null,
      "outputs": [
        {
          "output_type": "execute_result",
          "data": {
            "text/plain": [
              "Positive    3951\n",
              "Negative     196\n",
              "Name: sentiment, dtype: int64"
            ]
          },
          "metadata": {},
          "execution_count": 16
        }
      ]
    },
    {
      "cell_type": "code",
      "source": [
        "new_data.drop('compound_scores', axis = 1)\n",
        "new_data = new_data.reset_index(drop = True)"
      ],
      "metadata": {
        "id": "qqJaBwNB8Cj4"
      },
      "execution_count": null,
      "outputs": []
    },
    {
      "cell_type": "code",
      "source": [
        "X = new_data['Review_text']\n",
        "y = new_data['sentiment']"
      ],
      "metadata": {
        "id": "FGQVfIRtkBGg"
      },
      "execution_count": null,
      "outputs": []
    },
    {
      "cell_type": "code",
      "source": [
        "from gensim.models import Word2Vec\n",
        "from nltk.tokenize import word_tokenize\n",
        "from tensorflow.keras.preprocessing.sequence import pad_sequences"
      ],
      "metadata": {
        "id": "Ngeajcpy4wyr"
      },
      "execution_count": null,
      "outputs": []
    },
    {
      "cell_type": "code",
      "source": [
        "sentences = [text.split() for text in new_data['Review_text']]\n",
        "\n",
        "# Train the Word2Vec model on the sentences\n",
        "word2vec_model = Word2Vec(sentences, min_count=1, vector_size=100)\n",
        "\n",
        "# Function to transform a sentence into a feature vector\n",
        "def sentence_to_vector(sentence):\n",
        "    vectors = []\n",
        "    for word in sentence:\n",
        "        if word in word2vec_model.wv.key_to_index:\n",
        "            vectors.append(word2vec_model.wv[word])\n",
        "    if vectors:\n",
        "        return np.mean(vectors, axis=0)\n",
        "    else:\n",
        "        return np.zeros(word2vec_model.vector_size)"
      ],
      "metadata": {
        "id": "DRsGOLLvvjis"
      },
      "execution_count": null,
      "outputs": []
    },
    {
      "cell_type": "code",
      "source": [
        "X= [sentence_to_vector(sentence.split()) for sentence in X]\n",
        "X = np.asarray(X)\n",
        "#X = pd.DataFrame(X)\n",
        "# Print the shape of X"
      ],
      "metadata": {
        "id": "eqxxbmkev9w3"
      },
      "execution_count": null,
      "outputs": []
    },
    {
      "cell_type": "code",
      "source": [
        "X"
      ],
      "metadata": {
        "colab": {
          "base_uri": "https://localhost:8080/"
        },
        "id": "n35wHXakm6f7",
        "outputId": "9b5bd691-7680-4b7f-92ea-02cf4cc53cd6"
      },
      "execution_count": null,
      "outputs": [
        {
          "output_type": "execute_result",
          "data": {
            "text/plain": [
              "array([[ 0.29128993,  0.27497378, -0.08085808, ..., -0.38301811,\n",
              "        -0.07881702, -0.08849724],\n",
              "       [ 0.31651929,  0.37767172, -0.16871485, ..., -0.41064122,\n",
              "         0.04208481, -0.10176304],\n",
              "       [ 0.31434938,  0.39940941, -0.16123693, ..., -0.35161829,\n",
              "        -0.00703217, -0.11294307],\n",
              "       ...,\n",
              "       [ 0.23857719,  0.33736885, -0.20305188, ..., -0.48998711,\n",
              "        -0.09603012, -0.07163415],\n",
              "       [ 0.15536945,  0.20085803, -0.2711921 , ..., -0.31301001,\n",
              "        -0.0602124 , -0.04874836],\n",
              "       [ 0.40381342,  0.53962123, -0.10464861, ..., -0.39293379,\n",
              "        -0.07335109, -0.14002457]])"
            ]
          },
          "metadata": {},
          "execution_count": 22
        }
      ]
    },
    {
      "cell_type": "code",
      "source": [
        "from sklearn.preprocessing import LabelEncoder\n",
        "le = LabelEncoder()\n",
        "le.fit(y)\n",
        "y = pd.DataFrame(le.transform(y))"
      ],
      "metadata": {
        "id": "CDPAXuhv21uD"
      },
      "execution_count": null,
      "outputs": []
    },
    {
      "cell_type": "code",
      "source": [
        "from sklearn.model_selection import train_test_split\n",
        "X_train, X_test, y_train, y_test = train_test_split(X,y,test_size = 0.2, random_state = 1)"
      ],
      "metadata": {
        "id": "1Cyy9bwC7REA"
      },
      "execution_count": null,
      "outputs": []
    },
    {
      "cell_type": "code",
      "source": [
        "from imblearn.over_sampling import SMOTE\n",
        "sm = SMOTE(random_state=1)\n",
        "X_trainSM, y_trainsm = sm.fit_resample(X_train,y_train)"
      ],
      "metadata": {
        "id": "69HvDPNaDPtV"
      },
      "execution_count": null,
      "outputs": []
    },
    {
      "cell_type": "code",
      "source": [
        "from sklearn.preprocessing import StandardScaler\n",
        "sc = StandardScaler()\n",
        "#y_train = sc.fit_transform(y_train)\n",
        "#y_test = sc.transform(y_test)\n",
        "X_trainSM = sc.fit_transform(X_trainSM)\n",
        "X_test = sc.transform(X_test)"
      ],
      "metadata": {
        "id": "NFhg6bZojP4k"
      },
      "execution_count": null,
      "outputs": []
    },
    {
      "cell_type": "code",
      "source": [
        "import tensorflow as tf\n",
        "from tensorflow.keras.models import Sequential\n",
        "from tensorflow.keras.layers import LSTM, Dense, Embedding, Dropout\n",
        "\n",
        "#train_dataset = tf.data.Dataset.from_tensor_slices((X_train, y_train))\n",
        "#test_dataset = tf.data.Dataset.from_tensor_slices((X_test, y_test))\n",
        "#X_train = np.reshape(X_train, (X_train.shape[0], X_train.shape[1], 1))\n",
        "#X_test = np.reshape(X_test, (X_test.shape[0], X_test.shape[1], 1))\n",
        "\n",
        "max_length = max([len(x) for x in X_train])\n",
        "\n",
        "model = Sequential()\n",
        "model.add(Embedding(input_dim=len(word2vec_model.wv.key_to_index) + 1, output_dim=100, input_length=max_length))\n",
        "model.add(LSTM(units=128, dropout=0.2, recurrent_dropout=0.2))\n",
        "model.add(Dense(units=1, activation='sigmoid'))\n",
        "\n",
        "# Compile the model\n",
        "model.compile(optimizer='adam', loss='binary_crossentropy', metrics=['accuracy'])\n",
        "\n",
        "model.fit(X_trainSM, y_trainsm, validation_data=(X_test, y_test), epochs=20, batch_size=32)\n"
      ],
      "metadata": {
        "colab": {
          "base_uri": "https://localhost:8080/"
        },
        "id": "-BhtzTn48Id2",
        "outputId": "ac9ef5bd-4606-4a6b-ac36-cbf7edcb7869"
      },
      "execution_count": null,
      "outputs": [
        {
          "output_type": "stream",
          "name": "stderr",
          "text": [
            "WARNING:tensorflow:Layer lstm will not use cuDNN kernels since it doesn't meet the criteria. It will use a generic GPU kernel as fallback when running on GPU.\n"
          ]
        },
        {
          "output_type": "stream",
          "name": "stdout",
          "text": [
            "Epoch 1/20\n",
            "198/198 [==============================] - 104s 484ms/step - loss: 0.6459 - accuracy: 0.6107 - val_loss: 0.6579 - val_accuracy: 0.3940\n",
            "Epoch 2/20\n",
            "198/198 [==============================] - 91s 459ms/step - loss: 0.6346 - accuracy: 0.6100 - val_loss: 0.6585 - val_accuracy: 0.3277\n",
            "Epoch 3/20\n",
            "198/198 [==============================] - 95s 477ms/step - loss: 0.6617 - accuracy: 0.5955 - val_loss: 0.7104 - val_accuracy: 0.3145\n",
            "Epoch 4/20\n",
            "198/198 [==============================] - 93s 466ms/step - loss: 0.6303 - accuracy: 0.6190 - val_loss: 0.6588 - val_accuracy: 0.3614\n",
            "Epoch 5/20\n",
            "198/198 [==============================] - 96s 485ms/step - loss: 0.6281 - accuracy: 0.6227 - val_loss: 0.6165 - val_accuracy: 0.4819\n",
            "Epoch 6/20\n",
            "198/198 [==============================] - 94s 477ms/step - loss: 0.6206 - accuracy: 0.6282 - val_loss: 0.6225 - val_accuracy: 0.4048\n",
            "Epoch 7/20\n",
            "198/198 [==============================] - 94s 477ms/step - loss: 0.6310 - accuracy: 0.6246 - val_loss: 0.6812 - val_accuracy: 0.3831\n",
            "Epoch 8/20\n",
            "198/198 [==============================] - 97s 492ms/step - loss: 0.6151 - accuracy: 0.6350 - val_loss: 0.6064 - val_accuracy: 0.4253\n",
            "Epoch 9/20\n",
            "198/198 [==============================] - 96s 485ms/step - loss: 0.6313 - accuracy: 0.5999 - val_loss: 0.6647 - val_accuracy: 0.3120\n",
            "Epoch 10/20\n",
            "198/198 [==============================] - 97s 488ms/step - loss: 0.6268 - accuracy: 0.6084 - val_loss: 0.6517 - val_accuracy: 0.4084\n",
            "Epoch 11/20\n",
            "198/198 [==============================] - 90s 454ms/step - loss: 0.6212 - accuracy: 0.6205 - val_loss: 0.7014 - val_accuracy: 0.3542\n",
            "Epoch 12/20\n",
            "198/198 [==============================] - 91s 459ms/step - loss: 0.6157 - accuracy: 0.6288 - val_loss: 0.6193 - val_accuracy: 0.4265\n",
            "Epoch 13/20\n",
            "198/198 [==============================] - 93s 471ms/step - loss: 0.6153 - accuracy: 0.6309 - val_loss: 0.6424 - val_accuracy: 0.4145\n",
            "Epoch 14/20\n",
            "198/198 [==============================] - 91s 459ms/step - loss: 0.6106 - accuracy: 0.6364 - val_loss: 0.5988 - val_accuracy: 0.4723\n",
            "Epoch 15/20\n",
            "198/198 [==============================] - 97s 490ms/step - loss: 0.6114 - accuracy: 0.6323 - val_loss: 0.6579 - val_accuracy: 0.4361\n",
            "Epoch 16/20\n",
            "198/198 [==============================] - 99s 499ms/step - loss: 0.6070 - accuracy: 0.6325 - val_loss: 0.5862 - val_accuracy: 0.4639\n",
            "Epoch 17/20\n",
            "198/198 [==============================] - 98s 490ms/step - loss: 0.6024 - accuracy: 0.6359 - val_loss: 0.5333 - val_accuracy: 0.7928\n",
            "Epoch 18/20\n",
            "198/198 [==============================] - 91s 457ms/step - loss: 0.5996 - accuracy: 0.6459 - val_loss: 0.6035 - val_accuracy: 0.4639\n",
            "Epoch 19/20\n",
            "198/198 [==============================] - 94s 475ms/step - loss: 0.5972 - accuracy: 0.6492 - val_loss: 0.7172 - val_accuracy: 0.3867\n",
            "Epoch 20/20\n",
            "198/198 [==============================] - 96s 483ms/step - loss: 0.5942 - accuracy: 0.6486 - val_loss: 0.5939 - val_accuracy: 0.4783\n"
          ]
        },
        {
          "output_type": "execute_result",
          "data": {
            "text/plain": [
              "<keras.callbacks.History at 0x7f7da83f6470>"
            ]
          },
          "metadata": {},
          "execution_count": 27
        }
      ]
    },
    {
      "cell_type": "code",
      "source": [
        "from sklearn.metrics import classification_report\n",
        "\n",
        "# Assuming you have the predicted labels and true labels\n",
        "y_pred = model.predict(X_test)\n",
        "y_pred = (y_pred > 0.5).astype(int)\n",
        "y_true = y_test\n",
        "\n",
        "# Generate the classification report\n",
        "report = classification_report(y_true, y_pred)\n",
        "\n",
        "# Print the classification report\n",
        "print(report)\n"
      ],
      "metadata": {
        "colab": {
          "base_uri": "https://localhost:8080/"
        },
        "id": "srIdeAax-lEy",
        "outputId": "36a32c22-b798-4db5-9392-98a122af86cd"
      },
      "execution_count": null,
      "outputs": [
        {
          "output_type": "stream",
          "name": "stdout",
          "text": [
            "26/26 [==============================] - 1s 31ms/step\n",
            "              precision    recall  f1-score   support\n",
            "\n",
            "           0       0.07      0.81      0.14        42\n",
            "           1       0.98      0.46      0.63       788\n",
            "\n",
            "    accuracy                           0.48       830\n",
            "   macro avg       0.53      0.64      0.38       830\n",
            "weighted avg       0.93      0.48      0.60       830\n",
            "\n"
          ]
        }
      ]
    },
    {
      "cell_type": "code",
      "source": [],
      "metadata": {
        "id": "nJWkuGEfAoFo"
      },
      "execution_count": null,
      "outputs": []
    }
  ]
}